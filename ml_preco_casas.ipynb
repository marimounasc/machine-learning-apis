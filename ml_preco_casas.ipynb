{
 "cells": [
  {
   "cell_type": "code",
   "execution_count": null,
   "id": "95ee18b5",
   "metadata": {},
   "outputs": [],
   "source": [
    "import pandas as pd\n",
    "from sklearn.model_selection import train_test_split"
   ]
  },
  {
   "cell_type": "code",
   "execution_count": 6,
   "id": "6bcc65b4",
   "metadata": {},
   "outputs": [],
   "source": [
    "df = pd.read_csv('casas.csv')\n",
    "colunas = ['tamanho', 'ano', 'garagem']\n",
    "\n",
    "X = df.drop('preco', axis=1) #axis=1 drop coluna\n",
    "y = df['preco']\n",
    "\n",
    "from sklearn.model_selection import train_test_split\n",
    "X_train, X_test, y_train, y_test = train_test_split(\n",
    "    X, y, test_size=0.3, random_state=42)\n",
    "\n",
    "from sklearn.linear_model import LinearRegression\n",
    "modelo = LinearRegression()\n",
    "modelo.fit(X_train, y_train)\n",
    "\n",
    "modelo.predict([[120, 2001, 2]])\n"
   ]
  }
 ],
 "metadata": {
  "kernelspec": {
   "display_name": "curso_alura",
   "language": "python",
   "name": "curso_alura"
  },
  "language_info": {
   "codemirror_mode": {
    "name": "ipython",
    "version": 3
   },
   "file_extension": ".py",
   "mimetype": "text/x-python",
   "name": "python",
   "nbconvert_exporter": "python",
   "pygments_lexer": "ipython3",
   "version": "3.9.4"
  }
 },
 "nbformat": 4,
 "nbformat_minor": 5
}
