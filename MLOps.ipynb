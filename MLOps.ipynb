{
 "cells": [
  {
   "cell_type": "code",
   "execution_count": 6,
   "id": "f311d0f2",
   "metadata": {
    "collapsed": true
   },
   "outputs": [
    {
     "ename": "ModuleNotFoundError",
     "evalue": "No module named 'textblob'",
     "output_type": "error",
     "traceback": [
      "\u001b[1;31m---------------------------------------------------------------------------\u001b[0m",
      "\u001b[1;31mModuleNotFoundError\u001b[0m                       Traceback (most recent call last)",
      "\u001b[1;32m<ipython-input-6-b7d76cf3dab9>\u001b[0m in \u001b[0;36m<module>\u001b[1;34m\u001b[0m\n\u001b[0;32m      1\u001b[0m \u001b[1;31m## Desenvolvendo API de Machine Learning ##\u001b[0m\u001b[1;33m\u001b[0m\u001b[1;33m\u001b[0m\u001b[1;33m\u001b[0m\u001b[0m\n\u001b[0;32m      2\u001b[0m \u001b[1;32mfrom\u001b[0m \u001b[0mflask\u001b[0m \u001b[1;32mimport\u001b[0m \u001b[0mFlask\u001b[0m\u001b[1;33m\u001b[0m\u001b[1;33m\u001b[0m\u001b[0m\n\u001b[1;32m----> 3\u001b[1;33m \u001b[1;32mfrom\u001b[0m \u001b[0mtextblob\u001b[0m \u001b[1;32mimport\u001b[0m \u001b[0mTextBlob\u001b[0m\u001b[1;33m\u001b[0m\u001b[1;33m\u001b[0m\u001b[0m\n\u001b[0m",
      "\u001b[1;31mModuleNotFoundError\u001b[0m: No module named 'textblob'"
     ]
    }
   ],
   "source": [
    "## Desenvolvendo API de Machine Learning ##\n",
    "from flask import Flask\n",
    "from textblob import TextBlob\n",
    "import pandas as pd\n"
   ]
  },
  {
   "cell_type": "code",
   "execution_count": 7,
   "id": "7203fe83",
   "metadata": {
    "collapsed": true
   },
   "outputs": [
    {
     "ename": "ModuleNotFoundError",
     "evalue": "No module named 'textblob'",
     "output_type": "error",
     "traceback": [
      "\u001b[1;31m---------------------------------------------------------------------------\u001b[0m",
      "\u001b[1;31mModuleNotFoundError\u001b[0m                       Traceback (most recent call last)",
      "\u001b[1;32m<ipython-input-7-b01cc5cdde0c>\u001b[0m in \u001b[0;36m<module>\u001b[1;34m\u001b[0m\n\u001b[0;32m      1\u001b[0m \u001b[1;31m## Desenvolvendo API de Machine Learning ##\u001b[0m\u001b[1;33m\u001b[0m\u001b[1;33m\u001b[0m\u001b[1;33m\u001b[0m\u001b[0m\n\u001b[0;32m      2\u001b[0m \u001b[1;32mfrom\u001b[0m \u001b[0mflask\u001b[0m \u001b[1;32mimport\u001b[0m \u001b[0mFlask\u001b[0m\u001b[1;33m\u001b[0m\u001b[1;33m\u001b[0m\u001b[0m\n\u001b[1;32m----> 3\u001b[1;33m \u001b[1;32mfrom\u001b[0m \u001b[0mtextblob\u001b[0m \u001b[1;32mimport\u001b[0m \u001b[0mTextBlob\u001b[0m\u001b[1;33m\u001b[0m\u001b[1;33m\u001b[0m\u001b[0m\n\u001b[0m\u001b[0;32m      4\u001b[0m \u001b[1;32mimport\u001b[0m \u001b[0mpandas\u001b[0m \u001b[1;32mas\u001b[0m \u001b[0mpd\u001b[0m\u001b[1;33m\u001b[0m\u001b[1;33m\u001b[0m\u001b[0m\n\u001b[0;32m      5\u001b[0m \u001b[1;33m\u001b[0m\u001b[0m\n",
      "\u001b[1;31mModuleNotFoundError\u001b[0m: No module named 'textblob'"
     ]
    }
   ],
   "source": [
    "## Desenvolvendo API de Machine Learning ##\n",
    "from flask import Flask, request, jsonify\n",
    "from textblob import TextBlob\n",
    "import pandas as pd\n",
    "\n",
    "df = pd.read_csv('casas.csv')\n",
    "colunas = ['tamanho', 'ano', 'garagem']\n",
    "\n",
    "X = df.drop('preco', axis=1) #axis=1 drop coluna\n",
    "y = df['preco']\n",
    "\n",
    "from sklearn.model_selection import train_test_split\n",
    "X_train, X_test, y_train, y_test = train_test_split(\n",
    "    X, y, test_size=0.3, random_state=42)\n",
    "\n",
    "from sklearn.linear_model import LinearRegression\n",
    "modelo = LinearRegression()\n",
    "modelo.fit(X_train, y_train)\n",
    "\n",
    "#ENDPOINTS#\n",
    "\n",
    "app = Flask(__name__)\n",
    "\n",
    "#definindo as rotas da API\n",
    "#definir funcao que sera executada nessa rota\n",
    "\n",
    "\n",
    "@app.route('/')\n",
    "def home():\n",
    "    return(\"Minha primeira API\")\n",
    "\n",
    "#definindo a funcao 'sentimento' onde o usuario irá adicionar a frase\n",
    "\n",
    "@app.route('/sentimento/<frase>')\n",
    "def sentimento(frase):\n",
    "    tb = TextBlob(frase)\n",
    "    tb_en = tb.translate(to='en')\n",
    "    polaridade = tb_en.sentiment.polarity\n",
    "    return \"polaridade: {}\".format(polaridade)\n",
    "\n",
    "@app.rout('/cotacao/', methods=['POST']) #'post' recebe formato payload json\n",
    "def cotacao(tamanho):\n",
    "    dados = request.get_json()\n",
    "    dados_input = [dados[col] for col in colunas]\n",
    "    preco = modelo.predict([dados_input])\n",
    "    return jsonify(preco=preco[0]) #[0] posicao 1 do array\n",
    "\n",
    "app.run(debug=True)\n",
    "\n",
    "# numero da running ... localhost"
   ]
  },
  {
   "cell_type": "code",
   "execution_count": null,
   "id": "f46136d2",
   "metadata": {},
   "outputs": [],
   "source": [
    "## organização de requests: postman\n",
    "\n",
    "# criar colecao -> pasta -> request (API gest) -> enter request URL\n",
    "\n",
    "##payload: json"
   ]
  },
  {
   "cell_type": "code",
   "execution_count": 8,
   "id": "c8df4b2b",
   "metadata": {},
   "outputs": [],
   "source": [
    "#### A partir de um arquivo serializado ###\n",
    "from flask import Flask, request, jsonify\n",
    "import flask_basicauth import BasicAuth\n",
    "from textblob import TextBlob\n",
    "import pandas as pd\n",
    "from sklearn.linear_model import LinearRegression\n",
    "import pickle\n",
    "\n",
    "modelo = picke.load(open('modelo.sav', 'rb')) #rb permissao de leitura\n",
    "\n",
    "colunas = ['tamanho', 'ano', 'garagem']\n",
    "\n",
    "#ENDPOINTS#\n",
    "\n",
    "app = Flask(__name__)\n",
    "#criando autenticação\n",
    "app.config['BASIC_AUTH_USERNAME'] = 'mariana'\n",
    "app.config['BASIC_AUTH_PASSWORD'] = '1234'\n",
    "\n",
    "basic_auth = BasicAuth(app)\n",
    "\n",
    "#definindo as rotas da API\n",
    "#definir funcao que sera executada nessa rota\n",
    "\n",
    "\n",
    "@app.route('/')\n",
    "@basic_auth.required\n",
    "def home():\n",
    "    return(\"Minha primeira API\")\n",
    "\n",
    "#definindo a funcao 'sentimento' onde o usuario irá adicionar a frase\n",
    "\n",
    "@app.route('/sentimento/<frase>')\n",
    "@basic_auth.required\n",
    "def sentimento(frase):\n",
    "    tb = TextBlob(frase)\n",
    "    tb_en = tb.translate(to='en')\n",
    "    polaridade = tb_en.sentiment.polarity\n",
    "    return \"polaridade: {}\".format(polaridade)\n",
    "\n",
    "@app.rout('/cotacao/', methods=['POST']) #'post' recebe formato payload json\n",
    "@basic_auth.required\n",
    "def cotacao(tamanho):\n",
    "    dados = request.get_json()\n",
    "    dados_input = [dados[col] for col in colunas]\n",
    "    preco = modelo.predict([dados_input])\n",
    "    return jsonify(preco=preco[0]) #[0] posicao 1 do array\n",
    "\n",
    "app.run(debug=True)\n"
   ]
  },
  {
   "cell_type": "code",
   "execution_count": null,
   "id": "dbd6602f",
   "metadata": {},
   "outputs": [],
   "source": [
    "\n",
    "\n"
   ]
  }
 ],
 "metadata": {
  "kernelspec": {
   "display_name": "curso_alura",
   "language": "python",
   "name": "curso_alura"
  },
  "language_info": {
   "codemirror_mode": {
    "name": "ipython",
    "version": 3
   },
   "file_extension": ".py",
   "mimetype": "text/x-python",
   "name": "python",
   "nbconvert_exporter": "python",
   "pygments_lexer": "ipython3",
   "version": "3.9.4"
  }
 },
 "nbformat": 4,
 "nbformat_minor": 5
}
