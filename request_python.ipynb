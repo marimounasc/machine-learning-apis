{
 "cells": [
  {
   "cell_type": "code",
   "execution_count": null,
   "id": "2b978936",
   "metadata": {},
   "outputs": [],
   "source": [
    "## Requests ##"
   ]
  },
  {
   "cell_type": "code",
   "execution_count": 1,
   "id": "2502d8bb",
   "metadata": {},
   "outputs": [],
   "source": [
    "import requests"
   ]
  },
  {
   "cell_type": "code",
   "execution_count": null,
   "id": "50d64b08",
   "metadata": {},
   "outputs": [],
   "source": [
    "url = 'http://127.0.0.1:5000/cotacao/'"
   ]
  },
  {
   "cell_type": "code",
   "execution_count": null,
   "id": "88e65104",
   "metadata": {},
   "outputs": [],
   "source": [
    "dados = {\n",
    "    \n",
    "    \"tamanho\": 120,\n",
    "    \"ano\":2001,\n",
    "    \"garagem\":2\n",
    "}"
   ]
  },
  {
   "cell_type": "code",
   "execution_count": null,
   "id": "9bac0d9f",
   "metadata": {},
   "outputs": [],
   "source": [
    "auth = requests.auth.HTTPBasicAuth('mariana', '1234')"
   ]
  },
  {
   "cell_type": "code",
   "execution_count": null,
   "id": "c8dea2c1",
   "metadata": {},
   "outputs": [],
   "source": [
    "response = requests.post(url, json=dados, auth=auth)"
   ]
  },
  {
   "cell_type": "code",
   "execution_count": null,
   "id": "38d689d1",
   "metadata": {},
   "outputs": [],
   "source": [
    "response.json()"
   ]
  }
 ],
 "metadata": {
  "kernelspec": {
   "display_name": "Python 3",
   "language": "python",
   "name": "python3"
  },
  "language_info": {
   "codemirror_mode": {
    "name": "ipython",
    "version": 3
   },
   "file_extension": ".py",
   "mimetype": "text/x-python",
   "name": "python",
   "nbconvert_exporter": "python",
   "pygments_lexer": "ipython3",
   "version": "3.8.8"
  }
 },
 "nbformat": 4,
 "nbformat_minor": 5
}
